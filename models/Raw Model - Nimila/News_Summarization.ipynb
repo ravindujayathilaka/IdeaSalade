{
  "nbformat": 4,
  "nbformat_minor": 0,
  "metadata": {
    "colab": {
      "provenance": []
    },
    "kernelspec": {
      "name": "python3",
      "display_name": "Python 3"
    },
    "language_info": {
      "name": "python"
    }
  },
  "cells": [
    {
      "cell_type": "code",
      "execution_count": 71,
      "metadata": {
        "id": "Hxj-Flx9zEMi"
      },
      "outputs": [],
      "source": [
        "import os\n",
        "import pandas as pd"
      ]
    },
    {
      "cell_type": "code",
      "source": [
        "import numpy as np\n",
        "import pandas as pd\n",
        "import nltk\n",
        "from nltk.tokenize import sent_tokenize\n",
        "nltk.download('punkt') # one time execution\n",
        "import re"
      ],
      "metadata": {
        "colab": {
          "base_uri": "https://localhost:8080/"
        },
        "id": "27o_bzSXzMt0",
        "outputId": "c4024808-6ca8-49f6-ba53-272ffc00c579"
      },
      "execution_count": 72,
      "outputs": [
        {
          "output_type": "stream",
          "name": "stderr",
          "text": [
            "[nltk_data] Downloading package punkt to /root/nltk_data...\n",
            "[nltk_data]   Package punkt is already up-to-date!\n"
          ]
        }
      ]
    },
    {
      "cell_type": "code",
      "source": [
        "from google.colab import files\n",
        "uploaded = files.upload()\n"
      ],
      "metadata": {
        "colab": {
          "base_uri": "https://localhost:8080/",
          "height": 73
        },
        "id": "i9njxZpyzN-D",
        "outputId": "cd271036-265b-4f98-eb36-10eceb82fb85"
      },
      "execution_count": 73,
      "outputs": [
        {
          "output_type": "display_data",
          "data": {
            "text/plain": [
              "<IPython.core.display.HTML object>"
            ],
            "text/html": [
              "\n",
              "     <input type=\"file\" id=\"files-2f417362-7dd8-4f6f-a9ce-8c893350d5a4\" name=\"files[]\" multiple disabled\n",
              "        style=\"border:none\" />\n",
              "     <output id=\"result-2f417362-7dd8-4f6f-a9ce-8c893350d5a4\">\n",
              "      Upload widget is only available when the cell has been executed in the\n",
              "      current browser session. Please rerun this cell to enable.\n",
              "      </output>\n",
              "      <script>// Copyright 2017 Google LLC\n",
              "//\n",
              "// Licensed under the Apache License, Version 2.0 (the \"License\");\n",
              "// you may not use this file except in compliance with the License.\n",
              "// You may obtain a copy of the License at\n",
              "//\n",
              "//      http://www.apache.org/licenses/LICENSE-2.0\n",
              "//\n",
              "// Unless required by applicable law or agreed to in writing, software\n",
              "// distributed under the License is distributed on an \"AS IS\" BASIS,\n",
              "// WITHOUT WARRANTIES OR CONDITIONS OF ANY KIND, either express or implied.\n",
              "// See the License for the specific language governing permissions and\n",
              "// limitations under the License.\n",
              "\n",
              "/**\n",
              " * @fileoverview Helpers for google.colab Python module.\n",
              " */\n",
              "(function(scope) {\n",
              "function span(text, styleAttributes = {}) {\n",
              "  const element = document.createElement('span');\n",
              "  element.textContent = text;\n",
              "  for (const key of Object.keys(styleAttributes)) {\n",
              "    element.style[key] = styleAttributes[key];\n",
              "  }\n",
              "  return element;\n",
              "}\n",
              "\n",
              "// Max number of bytes which will be uploaded at a time.\n",
              "const MAX_PAYLOAD_SIZE = 100 * 1024;\n",
              "\n",
              "function _uploadFiles(inputId, outputId) {\n",
              "  const steps = uploadFilesStep(inputId, outputId);\n",
              "  const outputElement = document.getElementById(outputId);\n",
              "  // Cache steps on the outputElement to make it available for the next call\n",
              "  // to uploadFilesContinue from Python.\n",
              "  outputElement.steps = steps;\n",
              "\n",
              "  return _uploadFilesContinue(outputId);\n",
              "}\n",
              "\n",
              "// This is roughly an async generator (not supported in the browser yet),\n",
              "// where there are multiple asynchronous steps and the Python side is going\n",
              "// to poll for completion of each step.\n",
              "// This uses a Promise to block the python side on completion of each step,\n",
              "// then passes the result of the previous step as the input to the next step.\n",
              "function _uploadFilesContinue(outputId) {\n",
              "  const outputElement = document.getElementById(outputId);\n",
              "  const steps = outputElement.steps;\n",
              "\n",
              "  const next = steps.next(outputElement.lastPromiseValue);\n",
              "  return Promise.resolve(next.value.promise).then((value) => {\n",
              "    // Cache the last promise value to make it available to the next\n",
              "    // step of the generator.\n",
              "    outputElement.lastPromiseValue = value;\n",
              "    return next.value.response;\n",
              "  });\n",
              "}\n",
              "\n",
              "/**\n",
              " * Generator function which is called between each async step of the upload\n",
              " * process.\n",
              " * @param {string} inputId Element ID of the input file picker element.\n",
              " * @param {string} outputId Element ID of the output display.\n",
              " * @return {!Iterable<!Object>} Iterable of next steps.\n",
              " */\n",
              "function* uploadFilesStep(inputId, outputId) {\n",
              "  const inputElement = document.getElementById(inputId);\n",
              "  inputElement.disabled = false;\n",
              "\n",
              "  const outputElement = document.getElementById(outputId);\n",
              "  outputElement.innerHTML = '';\n",
              "\n",
              "  const pickedPromise = new Promise((resolve) => {\n",
              "    inputElement.addEventListener('change', (e) => {\n",
              "      resolve(e.target.files);\n",
              "    });\n",
              "  });\n",
              "\n",
              "  const cancel = document.createElement('button');\n",
              "  inputElement.parentElement.appendChild(cancel);\n",
              "  cancel.textContent = 'Cancel upload';\n",
              "  const cancelPromise = new Promise((resolve) => {\n",
              "    cancel.onclick = () => {\n",
              "      resolve(null);\n",
              "    };\n",
              "  });\n",
              "\n",
              "  // Wait for the user to pick the files.\n",
              "  const files = yield {\n",
              "    promise: Promise.race([pickedPromise, cancelPromise]),\n",
              "    response: {\n",
              "      action: 'starting',\n",
              "    }\n",
              "  };\n",
              "\n",
              "  cancel.remove();\n",
              "\n",
              "  // Disable the input element since further picks are not allowed.\n",
              "  inputElement.disabled = true;\n",
              "\n",
              "  if (!files) {\n",
              "    return {\n",
              "      response: {\n",
              "        action: 'complete',\n",
              "      }\n",
              "    };\n",
              "  }\n",
              "\n",
              "  for (const file of files) {\n",
              "    const li = document.createElement('li');\n",
              "    li.append(span(file.name, {fontWeight: 'bold'}));\n",
              "    li.append(span(\n",
              "        `(${file.type || 'n/a'}) - ${file.size} bytes, ` +\n",
              "        `last modified: ${\n",
              "            file.lastModifiedDate ? file.lastModifiedDate.toLocaleDateString() :\n",
              "                                    'n/a'} - `));\n",
              "    const percent = span('0% done');\n",
              "    li.appendChild(percent);\n",
              "\n",
              "    outputElement.appendChild(li);\n",
              "\n",
              "    const fileDataPromise = new Promise((resolve) => {\n",
              "      const reader = new FileReader();\n",
              "      reader.onload = (e) => {\n",
              "        resolve(e.target.result);\n",
              "      };\n",
              "      reader.readAsArrayBuffer(file);\n",
              "    });\n",
              "    // Wait for the data to be ready.\n",
              "    let fileData = yield {\n",
              "      promise: fileDataPromise,\n",
              "      response: {\n",
              "        action: 'continue',\n",
              "      }\n",
              "    };\n",
              "\n",
              "    // Use a chunked sending to avoid message size limits. See b/62115660.\n",
              "    let position = 0;\n",
              "    do {\n",
              "      const length = Math.min(fileData.byteLength - position, MAX_PAYLOAD_SIZE);\n",
              "      const chunk = new Uint8Array(fileData, position, length);\n",
              "      position += length;\n",
              "\n",
              "      const base64 = btoa(String.fromCharCode.apply(null, chunk));\n",
              "      yield {\n",
              "        response: {\n",
              "          action: 'append',\n",
              "          file: file.name,\n",
              "          data: base64,\n",
              "        },\n",
              "      };\n",
              "\n",
              "      let percentDone = fileData.byteLength === 0 ?\n",
              "          100 :\n",
              "          Math.round((position / fileData.byteLength) * 100);\n",
              "      percent.textContent = `${percentDone}% done`;\n",
              "\n",
              "    } while (position < fileData.byteLength);\n",
              "  }\n",
              "\n",
              "  // All done.\n",
              "  yield {\n",
              "    response: {\n",
              "      action: 'complete',\n",
              "    }\n",
              "  };\n",
              "}\n",
              "\n",
              "scope.google = scope.google || {};\n",
              "scope.google.colab = scope.google.colab || {};\n",
              "scope.google.colab._files = {\n",
              "  _uploadFiles,\n",
              "  _uploadFilesContinue,\n",
              "};\n",
              "})(self);\n",
              "</script> "
            ]
          },
          "metadata": {}
        },
        {
          "output_type": "stream",
          "name": "stdout",
          "text": [
            "Saving data.csv to data.csv\n"
          ]
        }
      ]
    },
    {
      "metadata": {
        "id": "_5FvQ9LHGtja"
      },
      "cell_type": "code",
      "source": [
        "# Read the CSV file\n",
        "import io\n",
        "uploaded_file = uploaded['data.csv']\n",
        "df = pd.read_csv(io.StringIO(uploaded_file.decode(\"ISO-8859-1\")))"
      ],
      "execution_count": 75,
      "outputs": []
    },
    {
      "cell_type": "code",
      "source": [
        "df.head()"
      ],
      "metadata": {
        "colab": {
          "base_uri": "https://localhost:8080/",
          "height": 608
        },
        "id": "f7FHWlU4zOGb",
        "outputId": "0e075787-8cda-49b3-a5ac-5f03da73dcd3"
      },
      "execution_count": 76,
      "outputs": [
        {
          "output_type": "execute_result",
          "data": {
            "text/plain": [
              "                      author  \\\n",
              "0    BY Buddhika Samaraweera   \n",
              "1         By Shenal Fernando   \n",
              "2                        NaN   \n",
              "3        BY Dr. Jehan Perera   \n",
              "4  BY Ruwan Laknath Jayakody   \n",
              "\n",
              "                                               media  \\\n",
              "0  https://firebasestorage.googleapis.com/v0/b/th...   \n",
              "1  https://firebasestorage.googleapis.com/v0/b/th...   \n",
              "2  https://firebasestorage.googleapis.com/v0/b/th...   \n",
              "3  https://firebasestorage.googleapis.com/v0/b/th...   \n",
              "4  https://firebasestorage.googleapis.com/v0/b/th...   \n",
              "\n",
              "                                               title  category  \\\n",
              "0      Sufficient IVIG stocks available: Health Min.      news   \n",
              "1      Licences to explore offshore petroleum blocks  business   \n",
              "2        Female body recovered from Bogambara waters      news   \n",
              "3         Protect the Judiciary to protect democracy   opinion   \n",
              "4  Care-related needs of SLâs ageing population...     focus   \n",
              "\n",
              "                                             content isTodaysPaper  \\\n",
              "0   In the wake of a batch of human intravenous i...          True   \n",
              "1   Cabinet paper seeking approval for licences s...          True   \n",
              "2    The body of a female was recovered from the ...          True   \n",
              "3   The Government has allocated Rs. 11 billion i...          True   \n",
              "4   The inter-disciplinary and inter-sectoral col...          True   \n",
              "\n",
              "             meta/createdBy/uid       meta/createdBy/name  meta/reach  \\\n",
              "0  CIZLop1eNQgLt0ggozjxXC5H1Zm1  Wasantha Warnakulasuriya         0.0   \n",
              "1  3S7hjFYyt1Zgvl15YHH1GEuruUi2            Waruna Prabath         0.0   \n",
              "2  CIZLop1eNQgLt0ggozjxXC5H1Zm1  Wasantha Warnakulasuriya         0.0   \n",
              "3  3S7hjFYyt1Zgvl15YHH1GEuruUi2            Waruna Prabath         0.0   \n",
              "4  3S7hjFYyt1Zgvl15YHH1GEuruUi2            Waruna Prabath         0.0   \n",
              "\n",
              "                                        meta/excerpt meta/tags/0  meta/likes  \\\n",
              "0  In the wake of a batch of human intravenous im...         NaN         0.0   \n",
              "1  A Cabinet paper is slated to be presented to t...         NaN         0.0   \n",
              "2  The body of a female was recovered from the Bo...         NaN         0.0   \n",
              "3  The Government has allocated Rs. 11 billion in...         NaN         0.0   \n",
              "4  The inter-disciplinary and inter-sectoral coll...         NaN         0.0   \n",
              "\n",
              "   meta/createdAt/_seconds  meta/createdAt/_nanoseconds                    id  \\\n",
              "0             1.697481e+09                  111000000.0  00HyHonQl7lhuOBp9nQT   \n",
              "1             1.687632e+09                  908000000.0  00Qa5lHhgIJXDGUQYupU   \n",
              "2             1.687373e+09                  339000000.0  00qSPSjAzZtcrigZMLnI   \n",
              "3             1.696878e+09                   30000000.0  012pBfM0PLjZ7kkrfxdW   \n",
              "4             1.695323e+09                          0.0  01JA8b60c9Fhr1GVljVd   \n",
              "\n",
              "  meta/tags/1                                          Summarize  \n",
              "0         NaN  The Ministry of Health in Sri Lanka has confir...  \n",
              "1         NaN  A Cabinet paper is set to be presented to the ...  \n",
              "2         NaN  Police recovered a 31-year-old mother-of-two's...  \n",
              "3         NaN  The Sri Lankan government has allocated Rs. 11...  \n",
              "4         NaN                                                NaN  "
            ],
            "text/html": [
              "\n",
              "  <div id=\"df-1608af4d-a867-4ebd-84e4-f566d9262fc3\" class=\"colab-df-container\">\n",
              "    <div>\n",
              "<style scoped>\n",
              "    .dataframe tbody tr th:only-of-type {\n",
              "        vertical-align: middle;\n",
              "    }\n",
              "\n",
              "    .dataframe tbody tr th {\n",
              "        vertical-align: top;\n",
              "    }\n",
              "\n",
              "    .dataframe thead th {\n",
              "        text-align: right;\n",
              "    }\n",
              "</style>\n",
              "<table border=\"1\" class=\"dataframe\">\n",
              "  <thead>\n",
              "    <tr style=\"text-align: right;\">\n",
              "      <th></th>\n",
              "      <th>author</th>\n",
              "      <th>media</th>\n",
              "      <th>title</th>\n",
              "      <th>category</th>\n",
              "      <th>content</th>\n",
              "      <th>isTodaysPaper</th>\n",
              "      <th>meta/createdBy/uid</th>\n",
              "      <th>meta/createdBy/name</th>\n",
              "      <th>meta/reach</th>\n",
              "      <th>meta/excerpt</th>\n",
              "      <th>meta/tags/0</th>\n",
              "      <th>meta/likes</th>\n",
              "      <th>meta/createdAt/_seconds</th>\n",
              "      <th>meta/createdAt/_nanoseconds</th>\n",
              "      <th>id</th>\n",
              "      <th>meta/tags/1</th>\n",
              "      <th>Summarize</th>\n",
              "    </tr>\n",
              "  </thead>\n",
              "  <tbody>\n",
              "    <tr>\n",
              "      <th>0</th>\n",
              "      <td>BY Buddhika Samaraweera</td>\n",
              "      <td>https://firebasestorage.googleapis.com/v0/b/th...</td>\n",
              "      <td>Sufficient IVIG stocks available: Health Min.</td>\n",
              "      <td>news</td>\n",
              "      <td>In the wake of a batch of human intravenous i...</td>\n",
              "      <td>True</td>\n",
              "      <td>CIZLop1eNQgLt0ggozjxXC5H1Zm1</td>\n",
              "      <td>Wasantha Warnakulasuriya</td>\n",
              "      <td>0.0</td>\n",
              "      <td>In the wake of a batch of human intravenous im...</td>\n",
              "      <td>NaN</td>\n",
              "      <td>0.0</td>\n",
              "      <td>1.697481e+09</td>\n",
              "      <td>111000000.0</td>\n",
              "      <td>00HyHonQl7lhuOBp9nQT</td>\n",
              "      <td>NaN</td>\n",
              "      <td>The Ministry of Health in Sri Lanka has confir...</td>\n",
              "    </tr>\n",
              "    <tr>\n",
              "      <th>1</th>\n",
              "      <td>By Shenal Fernando</td>\n",
              "      <td>https://firebasestorage.googleapis.com/v0/b/th...</td>\n",
              "      <td>Licences to explore offshore petroleum blocks</td>\n",
              "      <td>business</td>\n",
              "      <td>Cabinet paper seeking approval for licences s...</td>\n",
              "      <td>True</td>\n",
              "      <td>3S7hjFYyt1Zgvl15YHH1GEuruUi2</td>\n",
              "      <td>Waruna Prabath</td>\n",
              "      <td>0.0</td>\n",
              "      <td>A Cabinet paper is slated to be presented to t...</td>\n",
              "      <td>NaN</td>\n",
              "      <td>0.0</td>\n",
              "      <td>1.687632e+09</td>\n",
              "      <td>908000000.0</td>\n",
              "      <td>00Qa5lHhgIJXDGUQYupU</td>\n",
              "      <td>NaN</td>\n",
              "      <td>A Cabinet paper is set to be presented to the ...</td>\n",
              "    </tr>\n",
              "    <tr>\n",
              "      <th>2</th>\n",
              "      <td>NaN</td>\n",
              "      <td>https://firebasestorage.googleapis.com/v0/b/th...</td>\n",
              "      <td>Female body recovered from Bogambara waters</td>\n",
              "      <td>news</td>\n",
              "      <td>The body of a female was recovered from the ...</td>\n",
              "      <td>True</td>\n",
              "      <td>CIZLop1eNQgLt0ggozjxXC5H1Zm1</td>\n",
              "      <td>Wasantha Warnakulasuriya</td>\n",
              "      <td>0.0</td>\n",
              "      <td>The body of a female was recovered from the Bo...</td>\n",
              "      <td>NaN</td>\n",
              "      <td>0.0</td>\n",
              "      <td>1.687373e+09</td>\n",
              "      <td>339000000.0</td>\n",
              "      <td>00qSPSjAzZtcrigZMLnI</td>\n",
              "      <td>NaN</td>\n",
              "      <td>Police recovered a 31-year-old mother-of-two's...</td>\n",
              "    </tr>\n",
              "    <tr>\n",
              "      <th>3</th>\n",
              "      <td>BY Dr. Jehan Perera</td>\n",
              "      <td>https://firebasestorage.googleapis.com/v0/b/th...</td>\n",
              "      <td>Protect the Judiciary to protect democracy</td>\n",
              "      <td>opinion</td>\n",
              "      <td>The Government has allocated Rs. 11 billion i...</td>\n",
              "      <td>True</td>\n",
              "      <td>3S7hjFYyt1Zgvl15YHH1GEuruUi2</td>\n",
              "      <td>Waruna Prabath</td>\n",
              "      <td>0.0</td>\n",
              "      <td>The Government has allocated Rs. 11 billion in...</td>\n",
              "      <td>NaN</td>\n",
              "      <td>0.0</td>\n",
              "      <td>1.696878e+09</td>\n",
              "      <td>30000000.0</td>\n",
              "      <td>012pBfM0PLjZ7kkrfxdW</td>\n",
              "      <td>NaN</td>\n",
              "      <td>The Sri Lankan government has allocated Rs. 11...</td>\n",
              "    </tr>\n",
              "    <tr>\n",
              "      <th>4</th>\n",
              "      <td>BY Ruwan Laknath Jayakody</td>\n",
              "      <td>https://firebasestorage.googleapis.com/v0/b/th...</td>\n",
              "      <td>Care-related needs of SLâs ageing population...</td>\n",
              "      <td>focus</td>\n",
              "      <td>The inter-disciplinary and inter-sectoral col...</td>\n",
              "      <td>True</td>\n",
              "      <td>3S7hjFYyt1Zgvl15YHH1GEuruUi2</td>\n",
              "      <td>Waruna Prabath</td>\n",
              "      <td>0.0</td>\n",
              "      <td>The inter-disciplinary and inter-sectoral coll...</td>\n",
              "      <td>NaN</td>\n",
              "      <td>0.0</td>\n",
              "      <td>1.695323e+09</td>\n",
              "      <td>0.0</td>\n",
              "      <td>01JA8b60c9Fhr1GVljVd</td>\n",
              "      <td>NaN</td>\n",
              "      <td>NaN</td>\n",
              "    </tr>\n",
              "  </tbody>\n",
              "</table>\n",
              "</div>\n",
              "    <div class=\"colab-df-buttons\">\n",
              "\n",
              "  <div class=\"colab-df-container\">\n",
              "    <button class=\"colab-df-convert\" onclick=\"convertToInteractive('df-1608af4d-a867-4ebd-84e4-f566d9262fc3')\"\n",
              "            title=\"Convert this dataframe to an interactive table.\"\n",
              "            style=\"display:none;\">\n",
              "\n",
              "  <svg xmlns=\"http://www.w3.org/2000/svg\" height=\"24px\" viewBox=\"0 -960 960 960\">\n",
              "    <path d=\"M120-120v-720h720v720H120Zm60-500h600v-160H180v160Zm220 220h160v-160H400v160Zm0 220h160v-160H400v160ZM180-400h160v-160H180v160Zm440 0h160v-160H620v160ZM180-180h160v-160H180v160Zm440 0h160v-160H620v160Z\"/>\n",
              "  </svg>\n",
              "    </button>\n",
              "\n",
              "  <style>\n",
              "    .colab-df-container {\n",
              "      display:flex;\n",
              "      gap: 12px;\n",
              "    }\n",
              "\n",
              "    .colab-df-convert {\n",
              "      background-color: #E8F0FE;\n",
              "      border: none;\n",
              "      border-radius: 50%;\n",
              "      cursor: pointer;\n",
              "      display: none;\n",
              "      fill: #1967D2;\n",
              "      height: 32px;\n",
              "      padding: 0 0 0 0;\n",
              "      width: 32px;\n",
              "    }\n",
              "\n",
              "    .colab-df-convert:hover {\n",
              "      background-color: #E2EBFA;\n",
              "      box-shadow: 0px 1px 2px rgba(60, 64, 67, 0.3), 0px 1px 3px 1px rgba(60, 64, 67, 0.15);\n",
              "      fill: #174EA6;\n",
              "    }\n",
              "\n",
              "    .colab-df-buttons div {\n",
              "      margin-bottom: 4px;\n",
              "    }\n",
              "\n",
              "    [theme=dark] .colab-df-convert {\n",
              "      background-color: #3B4455;\n",
              "      fill: #D2E3FC;\n",
              "    }\n",
              "\n",
              "    [theme=dark] .colab-df-convert:hover {\n",
              "      background-color: #434B5C;\n",
              "      box-shadow: 0px 1px 3px 1px rgba(0, 0, 0, 0.15);\n",
              "      filter: drop-shadow(0px 1px 2px rgba(0, 0, 0, 0.3));\n",
              "      fill: #FFFFFF;\n",
              "    }\n",
              "  </style>\n",
              "\n",
              "    <script>\n",
              "      const buttonEl =\n",
              "        document.querySelector('#df-1608af4d-a867-4ebd-84e4-f566d9262fc3 button.colab-df-convert');\n",
              "      buttonEl.style.display =\n",
              "        google.colab.kernel.accessAllowed ? 'block' : 'none';\n",
              "\n",
              "      async function convertToInteractive(key) {\n",
              "        const element = document.querySelector('#df-1608af4d-a867-4ebd-84e4-f566d9262fc3');\n",
              "        const dataTable =\n",
              "          await google.colab.kernel.invokeFunction('convertToInteractive',\n",
              "                                                    [key], {});\n",
              "        if (!dataTable) return;\n",
              "\n",
              "        const docLinkHtml = 'Like what you see? Visit the ' +\n",
              "          '<a target=\"_blank\" href=https://colab.research.google.com/notebooks/data_table.ipynb>data table notebook</a>'\n",
              "          + ' to learn more about interactive tables.';\n",
              "        element.innerHTML = '';\n",
              "        dataTable['output_type'] = 'display_data';\n",
              "        await google.colab.output.renderOutput(dataTable, element);\n",
              "        const docLink = document.createElement('div');\n",
              "        docLink.innerHTML = docLinkHtml;\n",
              "        element.appendChild(docLink);\n",
              "      }\n",
              "    </script>\n",
              "  </div>\n",
              "\n",
              "\n",
              "<div id=\"df-6c978311-fce3-4946-89a7-971ed598e8be\">\n",
              "  <button class=\"colab-df-quickchart\" onclick=\"quickchart('df-6c978311-fce3-4946-89a7-971ed598e8be')\"\n",
              "            title=\"Suggest charts.\"\n",
              "            style=\"display:none;\">\n",
              "\n",
              "<svg xmlns=\"http://www.w3.org/2000/svg\" height=\"24px\"viewBox=\"0 0 24 24\"\n",
              "     width=\"24px\">\n",
              "    <g>\n",
              "        <path d=\"M19 3H5c-1.1 0-2 .9-2 2v14c0 1.1.9 2 2 2h14c1.1 0 2-.9 2-2V5c0-1.1-.9-2-2-2zM9 17H7v-7h2v7zm4 0h-2V7h2v10zm4 0h-2v-4h2v4z\"/>\n",
              "    </g>\n",
              "</svg>\n",
              "  </button>\n",
              "\n",
              "<style>\n",
              "  .colab-df-quickchart {\n",
              "      --bg-color: #E8F0FE;\n",
              "      --fill-color: #1967D2;\n",
              "      --hover-bg-color: #E2EBFA;\n",
              "      --hover-fill-color: #174EA6;\n",
              "      --disabled-fill-color: #AAA;\n",
              "      --disabled-bg-color: #DDD;\n",
              "  }\n",
              "\n",
              "  [theme=dark] .colab-df-quickchart {\n",
              "      --bg-color: #3B4455;\n",
              "      --fill-color: #D2E3FC;\n",
              "      --hover-bg-color: #434B5C;\n",
              "      --hover-fill-color: #FFFFFF;\n",
              "      --disabled-bg-color: #3B4455;\n",
              "      --disabled-fill-color: #666;\n",
              "  }\n",
              "\n",
              "  .colab-df-quickchart {\n",
              "    background-color: var(--bg-color);\n",
              "    border: none;\n",
              "    border-radius: 50%;\n",
              "    cursor: pointer;\n",
              "    display: none;\n",
              "    fill: var(--fill-color);\n",
              "    height: 32px;\n",
              "    padding: 0;\n",
              "    width: 32px;\n",
              "  }\n",
              "\n",
              "  .colab-df-quickchart:hover {\n",
              "    background-color: var(--hover-bg-color);\n",
              "    box-shadow: 0 1px 2px rgba(60, 64, 67, 0.3), 0 1px 3px 1px rgba(60, 64, 67, 0.15);\n",
              "    fill: var(--button-hover-fill-color);\n",
              "  }\n",
              "\n",
              "  .colab-df-quickchart-complete:disabled,\n",
              "  .colab-df-quickchart-complete:disabled:hover {\n",
              "    background-color: var(--disabled-bg-color);\n",
              "    fill: var(--disabled-fill-color);\n",
              "    box-shadow: none;\n",
              "  }\n",
              "\n",
              "  .colab-df-spinner {\n",
              "    border: 2px solid var(--fill-color);\n",
              "    border-color: transparent;\n",
              "    border-bottom-color: var(--fill-color);\n",
              "    animation:\n",
              "      spin 1s steps(1) infinite;\n",
              "  }\n",
              "\n",
              "  @keyframes spin {\n",
              "    0% {\n",
              "      border-color: transparent;\n",
              "      border-bottom-color: var(--fill-color);\n",
              "      border-left-color: var(--fill-color);\n",
              "    }\n",
              "    20% {\n",
              "      border-color: transparent;\n",
              "      border-left-color: var(--fill-color);\n",
              "      border-top-color: var(--fill-color);\n",
              "    }\n",
              "    30% {\n",
              "      border-color: transparent;\n",
              "      border-left-color: var(--fill-color);\n",
              "      border-top-color: var(--fill-color);\n",
              "      border-right-color: var(--fill-color);\n",
              "    }\n",
              "    40% {\n",
              "      border-color: transparent;\n",
              "      border-right-color: var(--fill-color);\n",
              "      border-top-color: var(--fill-color);\n",
              "    }\n",
              "    60% {\n",
              "      border-color: transparent;\n",
              "      border-right-color: var(--fill-color);\n",
              "    }\n",
              "    80% {\n",
              "      border-color: transparent;\n",
              "      border-right-color: var(--fill-color);\n",
              "      border-bottom-color: var(--fill-color);\n",
              "    }\n",
              "    90% {\n",
              "      border-color: transparent;\n",
              "      border-bottom-color: var(--fill-color);\n",
              "    }\n",
              "  }\n",
              "</style>\n",
              "\n",
              "  <script>\n",
              "    async function quickchart(key) {\n",
              "      const quickchartButtonEl =\n",
              "        document.querySelector('#' + key + ' button');\n",
              "      quickchartButtonEl.disabled = true;  // To prevent multiple clicks.\n",
              "      quickchartButtonEl.classList.add('colab-df-spinner');\n",
              "      try {\n",
              "        const charts = await google.colab.kernel.invokeFunction(\n",
              "            'suggestCharts', [key], {});\n",
              "      } catch (error) {\n",
              "        console.error('Error during call to suggestCharts:', error);\n",
              "      }\n",
              "      quickchartButtonEl.classList.remove('colab-df-spinner');\n",
              "      quickchartButtonEl.classList.add('colab-df-quickchart-complete');\n",
              "    }\n",
              "    (() => {\n",
              "      let quickchartButtonEl =\n",
              "        document.querySelector('#df-6c978311-fce3-4946-89a7-971ed598e8be button');\n",
              "      quickchartButtonEl.style.display =\n",
              "        google.colab.kernel.accessAllowed ? 'block' : 'none';\n",
              "    })();\n",
              "  </script>\n",
              "</div>\n",
              "    </div>\n",
              "  </div>\n"
            ]
          },
          "metadata": {},
          "execution_count": 76
        }
      ]
    },
    {
      "cell_type": "code",
      "source": [
        "df.info()"
      ],
      "metadata": {
        "colab": {
          "base_uri": "https://localhost:8080/"
        },
        "id": "PQAvXTVc1Mqb",
        "outputId": "3ef68173-5c1c-4c2b-a46a-c1a679730712"
      },
      "execution_count": 77,
      "outputs": [
        {
          "output_type": "stream",
          "name": "stdout",
          "text": [
            "<class 'pandas.core.frame.DataFrame'>\n",
            "RangeIndex: 994 entries, 0 to 993\n",
            "Data columns (total 17 columns):\n",
            " #   Column                       Non-Null Count  Dtype  \n",
            "---  ------                       --------------  -----  \n",
            " 0   author                       136 non-null    object \n",
            " 1   media                        217 non-null    object \n",
            " 2   title                        990 non-null    object \n",
            " 3   category                     992 non-null    object \n",
            " 4   content                      962 non-null    object \n",
            " 5   isTodaysPaper                216 non-null    object \n",
            " 6   meta/createdBy/uid           992 non-null    object \n",
            " 7   meta/createdBy/name          992 non-null    object \n",
            " 8   meta/reach                   992 non-null    float64\n",
            " 9   meta/excerpt                 990 non-null    object \n",
            " 10  meta/tags/0                  804 non-null    object \n",
            " 11  meta/likes                   992 non-null    float64\n",
            " 12  meta/createdAt/_seconds      992 non-null    float64\n",
            " 13  meta/createdAt/_nanoseconds  992 non-null    float64\n",
            " 14  id                           992 non-null    object \n",
            " 15  meta/tags/1                  4 non-null      object \n",
            " 16  Summarize                    96 non-null     object \n",
            "dtypes: float64(4), object(13)\n",
            "memory usage: 132.1+ KB\n"
          ]
        }
      ]
    },
    {
      "cell_type": "code",
      "source": [
        "df.drop(['isTodaysPaper'], axis = 1, inplace=True)\n",
        "df.drop(['media'], axis = 1, inplace=True)\n",
        "df.drop(['meta/createdBy/uid'], axis = 1, inplace=True)\n",
        "df.drop(['meta/createdBy/name'], axis = 1, inplace=True)\n",
        "df.drop(['meta/reach'], axis = 1, inplace=True)\n",
        "df.drop(['meta/excerpt'], axis = 1, inplace=True)\n",
        "df.drop(['meta/tags/0'], axis = 1, inplace=True)\n",
        "df.drop(['meta/likes'], axis = 1, inplace=True)\n",
        "df.drop(['meta/createdAt/_seconds'], axis = 1, inplace=True)\n",
        "df.drop(['meta/createdAt/_nanoseconds'], axis = 1, inplace=True)\n",
        "df.drop(['meta/tags/1'], axis = 1, inplace=True)"
      ],
      "metadata": {
        "id": "01RDLT1Y1Myi"
      },
      "execution_count": 78,
      "outputs": []
    },
    {
      "cell_type": "code",
      "source": [
        "df.head()"
      ],
      "metadata": {
        "colab": {
          "base_uri": "https://localhost:8080/",
          "height": 206
        },
        "id": "x-61Ly4c1M1F",
        "outputId": "5b07f89f-46ad-4fdf-dc5f-7b067d8b126b"
      },
      "execution_count": 83,
      "outputs": [
        {
          "output_type": "execute_result",
          "data": {
            "text/plain": [
              "                      author  \\\n",
              "0    BY Buddhika Samaraweera   \n",
              "1         By Shenal Fernando   \n",
              "2                        NaN   \n",
              "3        BY Dr. Jehan Perera   \n",
              "4  BY Ruwan Laknath Jayakody   \n",
              "\n",
              "                                               title  category  \\\n",
              "0      Sufficient IVIG stocks available: Health Min.      news   \n",
              "1      Licences to explore offshore petroleum blocks  business   \n",
              "2        Female body recovered from Bogambara waters      news   \n",
              "3         Protect the Judiciary to protect democracy   opinion   \n",
              "4  Care-related needs of SLâs ageing population...     focus   \n",
              "\n",
              "                                             content                    id  \\\n",
              "0   In the wake of a batch of human intravenous i...  00HyHonQl7lhuOBp9nQT   \n",
              "1   Cabinet paper seeking approval for licences s...  00Qa5lHhgIJXDGUQYupU   \n",
              "2    The body of a female was recovered from the ...  00qSPSjAzZtcrigZMLnI   \n",
              "3   The Government has allocated Rs. 11 billion i...  012pBfM0PLjZ7kkrfxdW   \n",
              "4   The inter-disciplinary and inter-sectoral col...  01JA8b60c9Fhr1GVljVd   \n",
              "\n",
              "                                           Summarize  \n",
              "0  The Ministry of Health in Sri Lanka has confir...  \n",
              "1  A Cabinet paper is set to be presented to the ...  \n",
              "2  Police recovered a 31-year-old mother-of-two's...  \n",
              "3  The Sri Lankan government has allocated Rs. 11...  \n",
              "4                                                NaN  "
            ],
            "text/html": [
              "\n",
              "  <div id=\"df-6e635176-9ea1-4b59-bd40-a6cc629e6cf4\" class=\"colab-df-container\">\n",
              "    <div>\n",
              "<style scoped>\n",
              "    .dataframe tbody tr th:only-of-type {\n",
              "        vertical-align: middle;\n",
              "    }\n",
              "\n",
              "    .dataframe tbody tr th {\n",
              "        vertical-align: top;\n",
              "    }\n",
              "\n",
              "    .dataframe thead th {\n",
              "        text-align: right;\n",
              "    }\n",
              "</style>\n",
              "<table border=\"1\" class=\"dataframe\">\n",
              "  <thead>\n",
              "    <tr style=\"text-align: right;\">\n",
              "      <th></th>\n",
              "      <th>author</th>\n",
              "      <th>title</th>\n",
              "      <th>category</th>\n",
              "      <th>content</th>\n",
              "      <th>id</th>\n",
              "      <th>Summarize</th>\n",
              "    </tr>\n",
              "  </thead>\n",
              "  <tbody>\n",
              "    <tr>\n",
              "      <th>0</th>\n",
              "      <td>BY Buddhika Samaraweera</td>\n",
              "      <td>Sufficient IVIG stocks available: Health Min.</td>\n",
              "      <td>news</td>\n",
              "      <td>In the wake of a batch of human intravenous i...</td>\n",
              "      <td>00HyHonQl7lhuOBp9nQT</td>\n",
              "      <td>The Ministry of Health in Sri Lanka has confir...</td>\n",
              "    </tr>\n",
              "    <tr>\n",
              "      <th>1</th>\n",
              "      <td>By Shenal Fernando</td>\n",
              "      <td>Licences to explore offshore petroleum blocks</td>\n",
              "      <td>business</td>\n",
              "      <td>Cabinet paper seeking approval for licences s...</td>\n",
              "      <td>00Qa5lHhgIJXDGUQYupU</td>\n",
              "      <td>A Cabinet paper is set to be presented to the ...</td>\n",
              "    </tr>\n",
              "    <tr>\n",
              "      <th>2</th>\n",
              "      <td>NaN</td>\n",
              "      <td>Female body recovered from Bogambara waters</td>\n",
              "      <td>news</td>\n",
              "      <td>The body of a female was recovered from the ...</td>\n",
              "      <td>00qSPSjAzZtcrigZMLnI</td>\n",
              "      <td>Police recovered a 31-year-old mother-of-two's...</td>\n",
              "    </tr>\n",
              "    <tr>\n",
              "      <th>3</th>\n",
              "      <td>BY Dr. Jehan Perera</td>\n",
              "      <td>Protect the Judiciary to protect democracy</td>\n",
              "      <td>opinion</td>\n",
              "      <td>The Government has allocated Rs. 11 billion i...</td>\n",
              "      <td>012pBfM0PLjZ7kkrfxdW</td>\n",
              "      <td>The Sri Lankan government has allocated Rs. 11...</td>\n",
              "    </tr>\n",
              "    <tr>\n",
              "      <th>4</th>\n",
              "      <td>BY Ruwan Laknath Jayakody</td>\n",
              "      <td>Care-related needs of SLâs ageing population...</td>\n",
              "      <td>focus</td>\n",
              "      <td>The inter-disciplinary and inter-sectoral col...</td>\n",
              "      <td>01JA8b60c9Fhr1GVljVd</td>\n",
              "      <td>NaN</td>\n",
              "    </tr>\n",
              "  </tbody>\n",
              "</table>\n",
              "</div>\n",
              "    <div class=\"colab-df-buttons\">\n",
              "\n",
              "  <div class=\"colab-df-container\">\n",
              "    <button class=\"colab-df-convert\" onclick=\"convertToInteractive('df-6e635176-9ea1-4b59-bd40-a6cc629e6cf4')\"\n",
              "            title=\"Convert this dataframe to an interactive table.\"\n",
              "            style=\"display:none;\">\n",
              "\n",
              "  <svg xmlns=\"http://www.w3.org/2000/svg\" height=\"24px\" viewBox=\"0 -960 960 960\">\n",
              "    <path d=\"M120-120v-720h720v720H120Zm60-500h600v-160H180v160Zm220 220h160v-160H400v160Zm0 220h160v-160H400v160ZM180-400h160v-160H180v160Zm440 0h160v-160H620v160ZM180-180h160v-160H180v160Zm440 0h160v-160H620v160Z\"/>\n",
              "  </svg>\n",
              "    </button>\n",
              "\n",
              "  <style>\n",
              "    .colab-df-container {\n",
              "      display:flex;\n",
              "      gap: 12px;\n",
              "    }\n",
              "\n",
              "    .colab-df-convert {\n",
              "      background-color: #E8F0FE;\n",
              "      border: none;\n",
              "      border-radius: 50%;\n",
              "      cursor: pointer;\n",
              "      display: none;\n",
              "      fill: #1967D2;\n",
              "      height: 32px;\n",
              "      padding: 0 0 0 0;\n",
              "      width: 32px;\n",
              "    }\n",
              "\n",
              "    .colab-df-convert:hover {\n",
              "      background-color: #E2EBFA;\n",
              "      box-shadow: 0px 1px 2px rgba(60, 64, 67, 0.3), 0px 1px 3px 1px rgba(60, 64, 67, 0.15);\n",
              "      fill: #174EA6;\n",
              "    }\n",
              "\n",
              "    .colab-df-buttons div {\n",
              "      margin-bottom: 4px;\n",
              "    }\n",
              "\n",
              "    [theme=dark] .colab-df-convert {\n",
              "      background-color: #3B4455;\n",
              "      fill: #D2E3FC;\n",
              "    }\n",
              "\n",
              "    [theme=dark] .colab-df-convert:hover {\n",
              "      background-color: #434B5C;\n",
              "      box-shadow: 0px 1px 3px 1px rgba(0, 0, 0, 0.15);\n",
              "      filter: drop-shadow(0px 1px 2px rgba(0, 0, 0, 0.3));\n",
              "      fill: #FFFFFF;\n",
              "    }\n",
              "  </style>\n",
              "\n",
              "    <script>\n",
              "      const buttonEl =\n",
              "        document.querySelector('#df-6e635176-9ea1-4b59-bd40-a6cc629e6cf4 button.colab-df-convert');\n",
              "      buttonEl.style.display =\n",
              "        google.colab.kernel.accessAllowed ? 'block' : 'none';\n",
              "\n",
              "      async function convertToInteractive(key) {\n",
              "        const element = document.querySelector('#df-6e635176-9ea1-4b59-bd40-a6cc629e6cf4');\n",
              "        const dataTable =\n",
              "          await google.colab.kernel.invokeFunction('convertToInteractive',\n",
              "                                                    [key], {});\n",
              "        if (!dataTable) return;\n",
              "\n",
              "        const docLinkHtml = 'Like what you see? Visit the ' +\n",
              "          '<a target=\"_blank\" href=https://colab.research.google.com/notebooks/data_table.ipynb>data table notebook</a>'\n",
              "          + ' to learn more about interactive tables.';\n",
              "        element.innerHTML = '';\n",
              "        dataTable['output_type'] = 'display_data';\n",
              "        await google.colab.output.renderOutput(dataTable, element);\n",
              "        const docLink = document.createElement('div');\n",
              "        docLink.innerHTML = docLinkHtml;\n",
              "        element.appendChild(docLink);\n",
              "      }\n",
              "    </script>\n",
              "  </div>\n",
              "\n",
              "\n",
              "<div id=\"df-28330493-e333-461b-8128-f36f246fad8a\">\n",
              "  <button class=\"colab-df-quickchart\" onclick=\"quickchart('df-28330493-e333-461b-8128-f36f246fad8a')\"\n",
              "            title=\"Suggest charts.\"\n",
              "            style=\"display:none;\">\n",
              "\n",
              "<svg xmlns=\"http://www.w3.org/2000/svg\" height=\"24px\"viewBox=\"0 0 24 24\"\n",
              "     width=\"24px\">\n",
              "    <g>\n",
              "        <path d=\"M19 3H5c-1.1 0-2 .9-2 2v14c0 1.1.9 2 2 2h14c1.1 0 2-.9 2-2V5c0-1.1-.9-2-2-2zM9 17H7v-7h2v7zm4 0h-2V7h2v10zm4 0h-2v-4h2v4z\"/>\n",
              "    </g>\n",
              "</svg>\n",
              "  </button>\n",
              "\n",
              "<style>\n",
              "  .colab-df-quickchart {\n",
              "      --bg-color: #E8F0FE;\n",
              "      --fill-color: #1967D2;\n",
              "      --hover-bg-color: #E2EBFA;\n",
              "      --hover-fill-color: #174EA6;\n",
              "      --disabled-fill-color: #AAA;\n",
              "      --disabled-bg-color: #DDD;\n",
              "  }\n",
              "\n",
              "  [theme=dark] .colab-df-quickchart {\n",
              "      --bg-color: #3B4455;\n",
              "      --fill-color: #D2E3FC;\n",
              "      --hover-bg-color: #434B5C;\n",
              "      --hover-fill-color: #FFFFFF;\n",
              "      --disabled-bg-color: #3B4455;\n",
              "      --disabled-fill-color: #666;\n",
              "  }\n",
              "\n",
              "  .colab-df-quickchart {\n",
              "    background-color: var(--bg-color);\n",
              "    border: none;\n",
              "    border-radius: 50%;\n",
              "    cursor: pointer;\n",
              "    display: none;\n",
              "    fill: var(--fill-color);\n",
              "    height: 32px;\n",
              "    padding: 0;\n",
              "    width: 32px;\n",
              "  }\n",
              "\n",
              "  .colab-df-quickchart:hover {\n",
              "    background-color: var(--hover-bg-color);\n",
              "    box-shadow: 0 1px 2px rgba(60, 64, 67, 0.3), 0 1px 3px 1px rgba(60, 64, 67, 0.15);\n",
              "    fill: var(--button-hover-fill-color);\n",
              "  }\n",
              "\n",
              "  .colab-df-quickchart-complete:disabled,\n",
              "  .colab-df-quickchart-complete:disabled:hover {\n",
              "    background-color: var(--disabled-bg-color);\n",
              "    fill: var(--disabled-fill-color);\n",
              "    box-shadow: none;\n",
              "  }\n",
              "\n",
              "  .colab-df-spinner {\n",
              "    border: 2px solid var(--fill-color);\n",
              "    border-color: transparent;\n",
              "    border-bottom-color: var(--fill-color);\n",
              "    animation:\n",
              "      spin 1s steps(1) infinite;\n",
              "  }\n",
              "\n",
              "  @keyframes spin {\n",
              "    0% {\n",
              "      border-color: transparent;\n",
              "      border-bottom-color: var(--fill-color);\n",
              "      border-left-color: var(--fill-color);\n",
              "    }\n",
              "    20% {\n",
              "      border-color: transparent;\n",
              "      border-left-color: var(--fill-color);\n",
              "      border-top-color: var(--fill-color);\n",
              "    }\n",
              "    30% {\n",
              "      border-color: transparent;\n",
              "      border-left-color: var(--fill-color);\n",
              "      border-top-color: var(--fill-color);\n",
              "      border-right-color: var(--fill-color);\n",
              "    }\n",
              "    40% {\n",
              "      border-color: transparent;\n",
              "      border-right-color: var(--fill-color);\n",
              "      border-top-color: var(--fill-color);\n",
              "    }\n",
              "    60% {\n",
              "      border-color: transparent;\n",
              "      border-right-color: var(--fill-color);\n",
              "    }\n",
              "    80% {\n",
              "      border-color: transparent;\n",
              "      border-right-color: var(--fill-color);\n",
              "      border-bottom-color: var(--fill-color);\n",
              "    }\n",
              "    90% {\n",
              "      border-color: transparent;\n",
              "      border-bottom-color: var(--fill-color);\n",
              "    }\n",
              "  }\n",
              "</style>\n",
              "\n",
              "  <script>\n",
              "    async function quickchart(key) {\n",
              "      const quickchartButtonEl =\n",
              "        document.querySelector('#' + key + ' button');\n",
              "      quickchartButtonEl.disabled = true;  // To prevent multiple clicks.\n",
              "      quickchartButtonEl.classList.add('colab-df-spinner');\n",
              "      try {\n",
              "        const charts = await google.colab.kernel.invokeFunction(\n",
              "            'suggestCharts', [key], {});\n",
              "      } catch (error) {\n",
              "        console.error('Error during call to suggestCharts:', error);\n",
              "      }\n",
              "      quickchartButtonEl.classList.remove('colab-df-spinner');\n",
              "      quickchartButtonEl.classList.add('colab-df-quickchart-complete');\n",
              "    }\n",
              "    (() => {\n",
              "      let quickchartButtonEl =\n",
              "        document.querySelector('#df-28330493-e333-461b-8128-f36f246fad8a button');\n",
              "      quickchartButtonEl.style.display =\n",
              "        google.colab.kernel.accessAllowed ? 'block' : 'none';\n",
              "    })();\n",
              "  </script>\n",
              "</div>\n",
              "    </div>\n",
              "  </div>\n"
            ]
          },
          "metadata": {},
          "execution_count": 83
        }
      ]
    },
    {
      "source": [
        "from matplotlib import pyplot as plt\n",
        "import seaborn as sns\n",
        "_df_0.groupby('author').size().plot(kind='barh', color=sns.palettes.mpl_palette('Dark2'))\n",
        "plt.gca().spines[['top', 'right',]].set_visible(False)"
      ],
      "cell_type": "code",
      "metadata": {
        "colab": {
          "base_uri": "https://localhost:8080/",
          "height": 430
        },
        "id": "znaQQbIgxy5p",
        "outputId": "6c16066a-fcbf-4b09-e924-264c0a512638"
      },
      "execution_count": 80,
      "outputs": [
        {
          "output_type": "display_data",
          "data": {
            "text/plain": [
              "<Figure size 640x480 with 1 Axes>"
            ],
            "image/png": "[encoded data removed]"
          },
          "metadata": {}
        }
      ]
    },
    {
      "cell_type": "code",
      "source": [
        "df.isnull().sum()"
      ],
      "metadata": {
        "colab": {
          "base_uri": "https://localhost:8080/"
        },
        "id": "m4bwOo8VgQMU",
        "outputId": "8af64d45-30c7-4b2f-b5f4-19320551102e"
      },
      "execution_count": 84,
      "outputs": [
        {
          "output_type": "execute_result",
          "data": {
            "text/plain": [
              "author       858\n",
              "title          4\n",
              "category       2\n",
              "content       32\n",
              "id             2\n",
              "Summarize    898\n",
              "dtype: int64"
            ]
          },
          "metadata": {},
          "execution_count": 84
        }
      ]
    },
    {
      "cell_type": "code",
      "source": [
        "df.dropna(inplace=True)"
      ],
      "metadata": {
        "id": "_DbWFqxLgjTM"
      },
      "execution_count": 85,
      "outputs": []
    },
    {
      "cell_type": "code",
      "source": [
        "df.isnull().sum()"
      ],
      "metadata": {
        "colab": {
          "base_uri": "https://localhost:8080/"
        },
        "id": "5Hu16Izhglwb",
        "outputId": "9e173193-ac83-453b-f639-4f28c400d36a"
      },
      "execution_count": 86,
      "outputs": [
        {
          "output_type": "execute_result",
          "data": {
            "text/plain": [
              "author       0\n",
              "title        0\n",
              "category     0\n",
              "content      0\n",
              "id           0\n",
              "Summarize    0\n",
              "dtype: int64"
            ]
          },
          "metadata": {},
          "execution_count": 86
        }
      ]
    },
    {
      "cell_type": "code",
      "source": [
        "df['category'].value_counts()"
      ],
      "metadata": {
        "colab": {
          "base_uri": "https://localhost:8080/"
        },
        "id": "mv6mTcyvgook",
        "outputId": "2b7d6071-71d4-4d92-c8db-6f637ef245ce"
      },
      "execution_count": 88,
      "outputs": [
        {
          "output_type": "execute_result",
          "data": {
            "text/plain": [
              "news          30\n",
              "sports         8\n",
              "opinion        6\n",
              "business       5\n",
              "focus          3\n",
              "brunch         1\n",
              "interviews     1\n",
              "happinez       1\n",
              "Name: category, dtype: int64"
            ]
          },
          "metadata": {},
          "execution_count": 88
        }
      ]
    },
    {
      "cell_type": "code",
      "source": [
        "df.duplicated().sum()"
      ],
      "metadata": {
        "colab": {
          "base_uri": "https://localhost:8080/"
        },
        "id": "wPSHfCDRgo3U",
        "outputId": "e46eb8e1-08cf-45b0-c8ac-d4f11e156745"
      },
      "execution_count": 89,
      "outputs": [
        {
          "output_type": "execute_result",
          "data": {
            "text/plain": [
              "0"
            ]
          },
          "metadata": {},
          "execution_count": 89
        }
      ]
    },
    {
      "cell_type": "code",
      "source": [
        "contraction_mapping = {\"ain't\": \"is not\", \"aren't\": \"are not\",\"can't\": \"cannot\", \"'cause\": \"because\", \"could've\": \"could have\", \"couldn't\": \"could not\",\n",
        "                           \"didn't\": \"did not\",  \"doesn't\": \"does not\", \"don't\": \"do not\", \"hadn't\": \"had not\", \"hasn't\": \"has not\", \"haven't\": \"have not\",\n",
        "                           \"he'd\": \"he would\",\"he'll\": \"he will\", \"he's\": \"he is\", \"how'd\": \"how did\", \"how'd'y\": \"how do you\", \"how'll\": \"how will\", \"how's\": \"how is\",\n",
        "                           \"I'd\": \"I would\", \"I'd've\": \"I would have\", \"I'll\": \"I will\", \"I'll've\": \"I will have\",\"I'm\": \"I am\", \"I've\": \"I have\", \"i'd\": \"i would\",\n",
        "                           \"i'd've\": \"i would have\", \"i'll\": \"i will\",  \"i'll've\": \"i will have\",\"i'm\": \"i am\", \"i've\": \"i have\", \"isn't\": \"is not\", \"it'd\": \"it would\",\n",
        "                           \"it'd've\": \"it would have\", \"it'll\": \"it will\", \"it'll've\": \"it will have\",\"it's\": \"it is\", \"let's\": \"let us\", \"ma'am\": \"madam\",\n",
        "                           \"mayn't\": \"may not\", \"might've\": \"might have\",\"mightn't\": \"might not\",\"mightn't've\": \"might not have\", \"must've\": \"must have\",\n",
        "                           \"mustn't\": \"must not\", \"mustn't've\": \"must not have\", \"needn't\": \"need not\", \"needn't've\": \"need not have\",\"o'clock\": \"of the clock\",\n",
        "                           \"oughtn't\": \"ought not\", \"oughtn't've\": \"ought not have\", \"shan't\": \"shall not\", \"sha'n't\": \"shall not\", \"shan't've\": \"shall not have\",\n",
        "                           \"she'd\": \"she would\", \"she'd've\": \"she would have\", \"she'll\": \"she will\", \"she'll've\": \"she will have\", \"she's\": \"she is\",\n",
        "                           \"should've\": \"should have\", \"shouldn't\": \"should not\", \"shouldn't've\": \"should not have\", \"so've\": \"so have\",\"so's\": \"so as\",\n",
        "                           \"this's\": \"this is\",\"that'd\": \"that would\", \"that'd've\": \"that would have\", \"that's\": \"that is\", \"there'd\": \"there would\",\n",
        "                           \"there'd've\": \"there would have\", \"there's\": \"there is\", \"here's\": \"here is\",\"they'd\": \"they would\", \"they'd've\": \"they would have\",\n",
        "                           \"they'll\": \"they will\", \"they'll've\": \"they will have\", \"they're\": \"they are\", \"they've\": \"they have\", \"to've\": \"to have\",\n",
        "                           \"wasn't\": \"was not\", \"we'd\": \"we would\", \"we'd've\": \"we would have\", \"we'll\": \"we will\", \"we'll've\": \"we will have\", \"we're\": \"we are\",\n",
        "                           \"we've\": \"we have\", \"weren't\": \"were not\", \"what'll\": \"what will\", \"what'll've\": \"what will have\", \"what're\": \"what are\",\n",
        "                           \"what's\": \"what is\", \"what've\": \"what have\", \"when's\": \"when is\", \"when've\": \"when have\", \"where'd\": \"where did\", \"where's\": \"where is\",\n",
        "                           \"where've\": \"where have\", \"who'll\": \"who will\", \"who'll've\": \"who will have\", \"who's\": \"who is\", \"who've\": \"who have\",\n",
        "                           \"why's\": \"why is\", \"why've\": \"why have\", \"will've\": \"will have\", \"won't\": \"will not\", \"won't've\": \"will not have\",\n",
        "                           \"would've\": \"would have\", \"wouldn't\": \"would not\", \"wouldn't've\": \"would not have\", \"y'all\": \"you all\",\n",
        "                           \"y'all'd\": \"you all would\",\"y'all'd've\": \"you all would have\",\"y'all're\": \"you all are\",\"y'all've\": \"you all have\",\n",
        "                           \"you'd\": \"you would\", \"you'd've\": \"you would have\", \"you'll\": \"you will\", \"you'll've\": \"you will have\",\n",
        "                           \"you're\": \"you are\", \"you've\": \"you have\"}\n"
      ],
      "metadata": {
        "id": "0GgnUJmCjurk"
      },
      "execution_count": 90,
      "outputs": []
    },
    {
      "cell_type": "code",
      "source": [
        "df['content'][0]"
      ],
      "metadata": {
        "colab": {
          "base_uri": "https://localhost:8080/",
          "height": 105
        },
        "id": "qQ1p5PFe1M3j",
        "outputId": "bf710c4a-9611-461a-a354-ea7a9063d8fe"
      },
      "execution_count": 91,
      "outputs": [
        {
          "output_type": "execute_result",
          "data": {
            "text/plain": [
              "' In the wake of a batch of human intravenous immunoglobulin (IVIG) imported to Sri Lanka from India being suspended from use, the Ministry of Health stated that there are adequate stocks of the said drug at hospitals in the country.   Earlier this month (October), the National Medicines Regulatory Authority (NMRA) issued a press release stating that a batch of IVIG imported to Sri Lanka from India in violation of the due procedure had been suspended from use.   With the suspension of the IVIG batch from use,   The Daily Morning   queried the Ministry as to whether there are sufficient stocks of the said drug to be administered to patients at hospitals. In response, the Ministry\\'s Additional Secretary Dr. Saman Rathnayake said: \"There are two other companies that imported this drug. The suspended batch is a small quantity. By now, the supplies from the other two companies have arrived, and there are sufficient stocks.\"   IVIG is a therapy treatment for patients with antibody deficiencies. It is prepared from a pool of immunoglobulins (antibodies) from the plasma of healthy donors. Immunoglobulins are made by the immune system of healthy people for the purpose of fighting infections.  The batch of IVIG in question had been suspended from use following the revelation that the local supplier named Isolez Biotech Pharma AG (Private) Limited had imported it by submitting forged documents for Customs clearing. It was also reported that the said local agent had imported a batch of the rituximab injection â\\x80\\x93 which is administered to cancer patients â\\x80\\x93 using a similar forged document. The NMRA stated last week that it had been revealed that the said local agent had imported a batch of the said drug, presenting a forged waiver of registration in the pretext of the same having been issued by the NMRA.    '"
            ],
            "application/vnd.google.colaboratory.intrinsic+json": {
              "type": "string"
            }
          },
          "metadata": {},
          "execution_count": 91
        }
      ]
    },
    {
      "cell_type": "code",
      "source": [
        "df['content'][1]"
      ],
      "metadata": {
        "colab": {
          "base_uri": "https://localhost:8080/",
          "height": 105
        },
        "id": "N_oZ_9OSzOI1",
        "outputId": "12c56498-8d64-41bc-bf78-fd0d2fef5c1e"
      },
      "execution_count": 92,
      "outputs": [
        {
          "output_type": "execute_result",
          "data": {
            "text/plain": [
              "' Cabinet paper seeking approval for licences soon   Licences for 150 offshore blocks in Mannar, Cauvery Basins        A Cabinet paper is slated to be presented to the Cabinet of Ministers, seeking approval for the granting of exploration licences to interested foreign firms for up to 150 offshore blocks in the Mannar, Cauvery, and Lanka Basins, marking the countryâ\\x80\\x99s inaugural foray into petroleum exploration.   Speaking to   The Sunday Morning Business,   Petroleum Development Authority of Sri Lanka (PDASL) Chairman Saliya Wickramasuriya stated that the Ministry of Energy would be presenting the Cabinet paper for the granting of petroleum exploration licences in the Mannar, Cauvery, and Lanka Basins.   Elaborating further, he stated: â\\x80\\x9cThere has been significant interest. We have received Expressions of Interest (EOIs) in relation to around 150 offshore blocks in the Mannar and Cauvery Basins, from a total of around 890 blocks.â\\x80\\x9d   He noted that the regulations setting out the legal framework under which interested entities may enter into joint study agreements with the PDASL in relation to the exploration of the countryâ\\x80\\x99s offshore assets had been published earlier this year.    Recent studies of well data and regional studies indicate that the three offshore sedimentary basins located around the island â\\x80\\x93 Mannar, Cauvery, and Lanka â\\x80\\x93 possess a proven working petroleum system with substantial deposits of natural gas.      The first natural gas discovery was made in the Mannar Basin off the northwestern coast in 2011. So far, exploratory drilling has made two discoveries from the same block with estimated reservoir capacities in excess of one trillion cubic feet (TCF) of natural gas and 10 million BBL (barrels) of condensate.    These discoveries propelled further explorations in the Mannar Basin, both in onshore and offshore regions.   A National Policy on Natural Gas was gazetted in September 2020, outlining domestic demand creation strategies and providing operators with options to commercialise offshore gas. A new Petroleum Resources Act No.21 of 2021 introduced independent regulation, policy, and operation functions and enhanced investor protection.        '"
            ],
            "application/vnd.google.colaboratory.intrinsic+json": {
              "type": "string"
            }
          },
          "metadata": {},
          "execution_count": 92
        }
      ]
    },
    {
      "cell_type": "markdown",
      "source": [
        "**Preprocessing**"
      ],
      "metadata": {
        "id": "yn1ry9Fe5O9z"
      }
    },
    {
      "cell_type": "markdown",
      "source": [
        "**TOKENIZATION**\n",
        "\n",
        "what is tokenization\n",
        "\n",
        "Tokenization is a way of separating a piece of text into smaller units called tokens. Here, tokens can be either words, characters, or subwords. Hence, tokenization can be broadly classified into 3 types 1.word, 2.character, and 3.subword (n-gram characters) tokenization."
      ],
      "metadata": {
        "id": "I4NMKp5b5PQD"
      }
    },
    {
      "cell_type": "code",
      "source": [
        "from nltk.tokenize import sent_tokenize\n",
        "sentences = []\n",
        "for s in df['content']:\n",
        "  sentences.append(sent_tokenize(s))\n",
        "\n",
        "sentences = [y for x in sentences for y in x]\n",
        "\n",
        "# Above I have used list comprehension technique instead of conventional for loop method."
      ],
      "metadata": {
        "id": "f4pyOkSpzOLT"
      },
      "execution_count": 93,
      "outputs": []
    },
    {
      "cell_type": "markdown",
      "source": [
        "**WORD EMBEDDING**"
      ],
      "metadata": {
        "id": "BQUev3WY5Gyr"
      }
    },
    {
      "cell_type": "markdown",
      "source": [
        "spliting the sentecnec into words"
      ],
      "metadata": {
        "id": "mK4HNjSr5Itr"
      }
    },
    {
      "cell_type": "code",
      "source": [
        "!wget http://nlp.stanford.edu/data/glove.6B.zip\n",
        "!unzip glove*.zip"
      ],
      "metadata": {
        "id": "7Gizm8oAzONr",
        "colab": {
          "base_uri": "https://localhost:8080/"
        },
        "outputId": "35428f30-f31f-4b43-d113-3e7739704b41"
      },
      "execution_count": 94,
      "outputs": [
        {
          "output_type": "stream",
          "name": "stdout",
          "text": [
            "--2023-11-05 09:21:22--  http://nlp.stanford.edu/data/glove.6B.zip\n",
            "Resolving nlp.stanford.edu (nlp.stanford.edu)... 171.64.67.140\n",
            "Connecting to nlp.stanford.edu (nlp.stanford.edu)|171.64.67.140|:80... connected.\n",
            "HTTP request sent, awaiting response... 302 Found\n",
            "Location: https://nlp.stanford.edu/data/glove.6B.zip [following]\n",
            "--2023-11-05 09:21:22--  https://nlp.stanford.edu/data/glove.6B.zip\n",
            "Connecting to nlp.stanford.edu (nlp.stanford.edu)|171.64.67.140|:443... connected.\n",
            "HTTP request sent, awaiting response... 301 Moved Permanently\n",
            "Location: https://downloads.cs.stanford.edu/nlp/data/glove.6B.zip [following]\n",
            "--2023-11-05 09:21:23--  https://downloads.cs.stanford.edu/nlp/data/glove.6B.zip\n",
            "Resolving downloads.cs.stanford.edu (downloads.cs.stanford.edu)... 171.64.64.22\n",
            "Connecting to downloads.cs.stanford.edu (downloads.cs.stanford.edu)|171.64.64.22|:443... connected.\n",
            "HTTP request sent, awaiting response... 200 OK\n",
            "Length: 862182613 (822M) [application/zip]\n",
            "Saving to: ‘glove.6B.zip.1’\n",
            "\n",
            "glove.6B.zip.1      100%[===================>] 822.24M  5.02MB/s    in 2m 39s  \n",
            "\n",
            "2023-11-05 09:24:02 (5.17 MB/s) - ‘glove.6B.zip.1’ saved [862182613/862182613]\n",
            "\n",
            "Archive:  glove.6B.zip\n",
            "replace glove.6B.50d.txt? [y]es, [n]o, [A]ll, [N]one, [r]ename: "
          ]
        }
      ]
    },
    {
      "cell_type": "code",
      "source": [
        "word_embeddings = {}\n",
        "f = open('glove.6B.100d.txt', encoding='utf-8')\n",
        "for line in f:\n",
        "    values = line.split()\n",
        "    word = values[0]\n",
        "    coefs = np.asarray(values[1:], dtype='float32')\n",
        "    word_embeddings[word] = coefs\n",
        "f.close()"
      ],
      "metadata": {
        "id": "CEuE9ARkzOfT"
      },
      "execution_count": 95,
      "outputs": []
    },
    {
      "cell_type": "code",
      "source": [
        "len(word_embeddings)"
      ],
      "metadata": {
        "id": "6rs3aR9t2lFj",
        "colab": {
          "base_uri": "https://localhost:8080/"
        },
        "outputId": "0253e6bc-59eb-454c-d2a2-fc1ef060ce6a"
      },
      "execution_count": 96,
      "outputs": [
        {
          "output_type": "execute_result",
          "data": {
            "text/plain": [
              "400000"
            ]
          },
          "metadata": {},
          "execution_count": 96
        }
      ]
    },
    {
      "cell_type": "markdown",
      "source": [
        "**Remove punctuations, special characters and numbers**"
      ],
      "metadata": {
        "id": "tdQC86g25BET"
      }
    },
    {
      "cell_type": "code",
      "source": [
        "clean_sentences = pd.Series(sentences).str.replace(\"[^a-zA-Z]\", \" \")"
      ],
      "metadata": {
        "id": "5HrmcpiA2lH8",
        "colab": {
          "base_uri": "https://localhost:8080/"
        },
        "outputId": "1dcf26d3-6693-48c0-bff9-84dcfea93bca"
      },
      "execution_count": 97,
      "outputs": [
        {
          "output_type": "stream",
          "name": "stderr",
          "text": [
            "<ipython-input-97-0e9472bb392f>:1: FutureWarning:\n",
            "\n",
            "The default value of regex will change from True to False in a future version.\n",
            "\n"
          ]
        }
      ]
    },
    {
      "cell_type": "code",
      "source": [
        "print(clean_sentences[0])\n",
        "print(clean_sentences[1])\n",
        "print(clean_sentences[2])"
      ],
      "metadata": {
        "id": "9qKwjEr62lKb",
        "colab": {
          "base_uri": "https://localhost:8080/"
        },
        "outputId": "7394cb80-0a25-476a-c640-99b36fe6e72c"
      },
      "execution_count": 98,
      "outputs": [
        {
          "output_type": "stream",
          "name": "stdout",
          "text": [
            " In the wake of a batch of human intravenous immunoglobulin  IVIG  imported to Sri Lanka from India being suspended from use  the Ministry of Health stated that there are adequate stocks of the said drug at hospitals in the country \n",
            "Earlier this month  October   the National Medicines Regulatory Authority  NMRA  issued a press release stating that a batch of IVIG imported to Sri Lanka from India in violation of the due procedure had been suspended from use \n",
            "With the suspension of the IVIG batch from use    The Daily Morning   queried the Ministry as to whether there are sufficient stocks of the said drug to be administered to patients at hospitals \n"
          ]
        }
      ]
    },
    {
      "cell_type": "markdown",
      "source": [
        "*converting to lower case*"
      ],
      "metadata": {
        "id": "NXsZzaks4dPT"
      }
    },
    {
      "cell_type": "code",
      "source": [
        "clean_sentences = [s.lower() for s in clean_sentences]"
      ],
      "metadata": {
        "id": "NxCi_5PB2lND"
      },
      "execution_count": 99,
      "outputs": []
    },
    {
      "cell_type": "markdown",
      "source": [
        "Removing stops words"
      ],
      "metadata": {
        "id": "YOLk_M2x4XNW"
      }
    },
    {
      "cell_type": "code",
      "source": [
        "nltk.download('stopwords')"
      ],
      "metadata": {
        "id": "N56QVJJR2lPo",
        "colab": {
          "base_uri": "https://localhost:8080/"
        },
        "outputId": "c903b752-92d8-4054-a686-b3d1f6107ea9"
      },
      "execution_count": 100,
      "outputs": [
        {
          "output_type": "stream",
          "name": "stderr",
          "text": [
            "[nltk_data] Downloading package stopwords to /root/nltk_data...\n",
            "[nltk_data]   Package stopwords is already up-to-date!\n"
          ]
        },
        {
          "output_type": "execute_result",
          "data": {
            "text/plain": [
              "True"
            ]
          },
          "metadata": {},
          "execution_count": 100
        }
      ]
    },
    {
      "cell_type": "code",
      "source": [
        "def remove_stopwords(sen):\n",
        "    sen_new = \" \".join([i for i in sen if i not in stop_words])\n",
        "    return sen_new"
      ],
      "metadata": {
        "id": "9ji10Z8v2lST"
      },
      "execution_count": 101,
      "outputs": []
    },
    {
      "cell_type": "code",
      "source": [
        "from nltk.corpus import stopwords\n",
        "stop_words = stopwords.words('english')"
      ],
      "metadata": {
        "id": "N1KLCCBB2wb6"
      },
      "execution_count": 102,
      "outputs": []
    },
    {
      "cell_type": "code",
      "source": [
        "clean_sentences = [remove_stopwords(r.split()) for r in clean_sentences]"
      ],
      "metadata": {
        "id": "oAH6_iYg2wei"
      },
      "execution_count": 103,
      "outputs": []
    },
    {
      "cell_type": "code",
      "source": [
        "clean_sentences[0:5]"
      ],
      "metadata": {
        "id": "S3ivnye02whE",
        "colab": {
          "base_uri": "https://localhost:8080/"
        },
        "outputId": "540bd6a8-8ecd-47ee-d116-e0b813f59cd2"
      },
      "execution_count": 104,
      "outputs": [
        {
          "output_type": "execute_result",
          "data": {
            "text/plain": [
              "['wake batch human intravenous immunoglobulin ivig imported sri lanka india suspended use ministry health stated adequate stocks said drug hospitals country',\n",
              " 'earlier month october national medicines regulatory authority nmra issued press release stating batch ivig imported sri lanka india violation due procedure suspended use',\n",
              " 'suspension ivig batch use daily morning queried ministry whether sufficient stocks said drug administered patients hospitals',\n",
              " 'response ministry additional secretary dr saman rathnayake said two companies imported drug',\n",
              " 'suspended batch small quantity']"
            ]
          },
          "metadata": {},
          "execution_count": 104
        }
      ]
    },
    {
      "cell_type": "markdown",
      "source": [
        "**Vector representation of sentences**"
      ],
      "metadata": {
        "id": "WMPMYpO03psz"
      }
    },
    {
      "cell_type": "code",
      "source": [
        "word_embeddings = {}\n",
        "f = open('glove.6B.100d.txt', encoding='utf-8')\n",
        "for line in f:\n",
        "    values = line.split()\n",
        "    word = values[0]\n",
        "    coefs = np.asarray(values[1:], dtype='float32')\n",
        "    word_embeddings[word] = coefs\n",
        "f.close()"
      ],
      "metadata": {
        "id": "LMB1NeN32wjU"
      },
      "execution_count": 105,
      "outputs": []
    },
    {
      "cell_type": "code",
      "source": [
        "sentence_vectors = []\n",
        "for i in clean_sentences:\n",
        "  if len(i) != 0:\n",
        "    v = sum([word_embeddings.get(w, np.zeros((100,))) for w in i.split()])/(len(i.split())+0.001)\n",
        "  else:\n",
        "    v = np.zeros((100,))\n",
        "  sentence_vectors.append(v)"
      ],
      "metadata": {
        "id": "dNpcUH2h2wl_"
      },
      "execution_count": 106,
      "outputs": []
    },
    {
      "cell_type": "markdown",
      "source": [
        "**Similarity matrix**"
      ],
      "metadata": {
        "id": "MVGfBxPi3liz"
      }
    },
    {
      "cell_type": "code",
      "source": [
        "from sklearn.metrics.pairwise import cosine_similarity"
      ],
      "metadata": {
        "id": "hog_qFVQ2wom"
      },
      "execution_count": 107,
      "outputs": []
    },
    {
      "cell_type": "code",
      "source": [
        "similarity_matrix = np.zeros([len(sentences), len(sentences)])\n",
        "# The above code will help me in forming the matrix of the size of sentences."
      ],
      "metadata": {
        "id": "LP8TZHAE2wq7"
      },
      "execution_count": 108,
      "outputs": []
    },
    {
      "cell_type": "code",
      "source": [
        "for i in range(len(sentences)):\n",
        "  for j in range(len(sentences)):\n",
        "    if i != j:\n",
        "      similarity_matrix[i][j] = cosine_similarity(sentence_vectors[i].reshape(1,100), sentence_vectors[j].reshape(1,100))[0,0]"
      ],
      "metadata": {
        "id": "6OY2b6V42lU0"
      },
      "execution_count": 109,
      "outputs": []
    },
    {
      "cell_type": "code",
      "source": [
        "print(similarity_matrix.shape)"
      ],
      "metadata": {
        "id": "5g8t3CqJ2lXD",
        "colab": {
          "base_uri": "https://localhost:8080/"
        },
        "outputId": "93b3ad11-a09b-4e6d-e58c-fd2f88da31c0"
      },
      "execution_count": 110,
      "outputs": [
        {
          "output_type": "stream",
          "name": "stdout",
          "text": [
            "(1369, 1369)\n"
          ]
        }
      ]
    },
    {
      "cell_type": "markdown",
      "source": [
        "**Converting similarity matrix sim_mat into a graph**"
      ],
      "metadata": {
        "id": "xn2hiHia3eLT"
      }
    },
    {
      "cell_type": "code",
      "source": [
        "import networkx as nx\n",
        "\n",
        "nx_graph = nx.from_numpy_array(similarity_matrix)\n",
        "scores = nx.pagerank(nx_graph)"
      ],
      "metadata": {
        "id": "xRky53uT2lZ0"
      },
      "execution_count": 111,
      "outputs": []
    },
    {
      "cell_type": "markdown",
      "source": [
        "**Summarization**"
      ],
      "metadata": {
        "id": "W9svple33XMk"
      }
    },
    {
      "cell_type": "code",
      "source": [
        "ranked_sentences = sorted(((scores[i],s) for i,s in enumerate(sentences)), reverse=True)"
      ],
      "metadata": {
        "id": "3pN7_Gdk2lc0"
      },
      "execution_count": 112,
      "outputs": []
    },
    {
      "cell_type": "code",
      "source": [
        "# Extract top 10 News as the summary\n",
        "for i in range(1):\n",
        "  print(ranked_sentences[i][1])"
      ],
      "metadata": {
        "id": "YXHgvW_Z3DRL",
        "colab": {
          "base_uri": "https://localhost:8080/"
        },
        "outputId": "c917563d-4194-4c81-c818-813390070395"
      },
      "execution_count": 116,
      "outputs": [
        {
          "output_type": "stream",
          "name": "stdout",
          "text": [
            "With regard to financial stability, Dr. Dissanayake added: âInstead of continuing to depend on the Treasury, especially in the current state of the country, the Tower Hall Theatre Foundation is planning to look for ways to earn adequate revenue in order to sustain itself within the coming two to three years.â   Meanwhile, both Prof. Wickramasinghe and Dr. Dissanayake spoke of education on stage drama and the theatrical arts in the education system.\n"
          ]
        }
      ]
    },
    {
      "cell_type": "code",
      "source": [],
      "metadata": {
        "id": "ZMgqJZVWwgFb"
      },
      "execution_count": null,
      "outputs": []
    }
  ]
}